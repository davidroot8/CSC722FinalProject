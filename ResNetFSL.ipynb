{
 "cells": [
  {
   "cell_type": "code",
   "execution_count": 1,
   "id": "initial_id",
   "metadata": {
    "ExecuteTime": {
     "end_time": "2024-04-24T02:10:37.609699Z",
     "start_time": "2024-04-24T02:10:37.606663Z"
    },
    "collapsed": true
   },
   "outputs": [],
   "source": [
    "import torch\n",
    "import torch.nn as nn\n",
    "import torch.nn.functional as F\n",
    "import torch.optim as optim\n",
    "from torchvision import transforms, models\n",
    "import numpy as np"
   ]
  },
  {
   "cell_type": "code",
   "execution_count": 2,
   "id": "67adbeb9b5d2df05",
   "metadata": {
    "ExecuteTime": {
     "end_time": "2024-04-24T02:10:38.369770Z",
     "start_time": "2024-04-24T02:10:38.366245Z"
    }
   },
   "outputs": [],
   "source": [
    "class ResnetFSLModel(nn.Module):\n",
    "    def __init__(self, num_classes=10):\n",
    "        super().__init__()\n",
    "        self.model = models.resnet50(weights='DEFAULT')\n",
    "        in_features = self.model.fc.in_features\n",
    "        self.model.fc = nn.Linear(in_features, num_classes)\n",
    "\n",
    "    def forward(self, support_images, query_images):\n",
    "        support_embeddings = self.model(support_images)\n",
    "        prototypes = support_embeddings.reshape(self.num_classes, -1).mean(dim=1)\n",
    "\n",
    "        query_embeddings = self.model(query_images)\n",
    "        distances = torch.cdist(query_embeddings, prototypes)\n",
    "        log_probabilities = F.log_softmax(-distances, dim=1)\n",
    "        return log_probabilities"
   ]
  },
  {
   "cell_type": "code",
   "execution_count": 3,
   "id": "875ee0dcf0aa42b0",
   "metadata": {
    "ExecuteTime": {
     "end_time": "2024-04-24T02:11:15.364617Z",
     "start_time": "2024-04-24T02:11:15.361148Z"
    }
   },
   "outputs": [],
   "source": [
    "def get_episode_data(images, labels, num_classes_per_episode, num_support, num_query):\n",
    "    # Randomly select classes for the episode\n",
    "    selected_classes = np.random.choice(np.unique(labels), num_classes_per_episode, replace=False)\n",
    "\n",
    "    # Prepare support and query sets\n",
    "    support_set = []\n",
    "    query_set = []\n",
    "    query_labels = []\n",
    "    for class_label in selected_classes:\n",
    "        class_indices = np.where(labels == class_label)[0]\n",
    "\n",
    "        # Randomly select non-overlapping support and query indices\n",
    "        support_indices = np.random.choice(class_indices, num_support, replace=False)\n",
    "        query_indices = np.random.choice([i for i in class_indices if i not in support_indices], num_query, replace=False)\n",
    "\n",
    "        support_set.extend(images[support_indices])\n",
    "        query_set.extend(images[query_indices])\n",
    "        query_labels.extend([class_label] * num_query)\n",
    "\n",
    "    # Convert to tensors\n",
    "    # support_set = torch.stack(support_set)\n",
    "    # query_set = torch.stack(query_set)\n",
    "    # query_labels = torch.tensor(query_labels)\n",
    "    support_set = torch.stack([images[idx] for idx in support_indices])\n",
    "    query_set = torch.stack([images[idx] for idx in query_indices])\n",
    "    query_labels = torch.tensor(query_labels)\n",
    "\n",
    "    return support_set, query_set, query_labels"
   ]
  },
  {
   "cell_type": "code",
   "execution_count": 4,
   "id": "a42a75da958403ef",
   "metadata": {
    "ExecuteTime": {
     "end_time": "2024-04-24T02:11:51.104124Z",
     "start_time": "2024-04-24T02:11:49.937756Z"
    }
   },
   "outputs": [],
   "source": [
    "# TODO: Add dataset here\n",
    "\n",
    "# Hyperparameters\n",
    "num_classes_per_episode = 5\n",
    "num_support = 5  # Support examples per class\n",
    "num_query = 15  # Query examples per class\n",
    "num_episodes = 100\n",
    "learning_rate = 0.001"
   ]
  },
  {
   "cell_type": "code",
   "execution_count": 5,
   "id": "f4d1f458ebe0a3b8",
   "metadata": {
    "ExecuteTime": {
     "end_time": "2024-04-24T02:12:17.355615Z",
     "start_time": "2024-04-24T02:12:17.248607Z"
    }
   },
   "outputs": [
    {
     "name": "stderr",
     "output_type": "stream",
     "text": [
      "Downloading: \"https://download.pytorch.org/models/resnet50-11ad3fa6.pth\" to /home/davidroot/.cache/torch/hub/checkpoints/resnet50-11ad3fa6.pth\n",
      "100%|██████████| 97.8M/97.8M [00:01<00:00, 59.2MB/s]\n"
     ]
    }
   ],
   "source": [
    "model = ResnetFSLModel(num_classes=10)\n",
    "optimizer = optim.Adam(model.parameters(), lr=learning_rate)"
   ]
  },
  {
   "cell_type": "code",
   "execution_count": null,
   "id": "cb3f55e1abdf9f93",
   "metadata": {
    "ExecuteTime": {
     "end_time": "2024-04-24T02:12:40.401754Z",
     "start_time": "2024-04-24T02:12:39.941180Z"
    }
   },
   "outputs": [],
   "source": [
    "for episode in range(num_episodes):\n",
    "    train_images, train_labels = trainset.data, torch.tensor(trainset.targets)\n",
    "    support_set, query_set, query_labels = get_episode_data(train_images, train_labels, num_classes_per_episode, num_support, num_query)\n",
    "\n",
    "    # Training Step\n",
    "    optimizer.zero_grad()\n",
    "    outputs = model(support_set, query_set)\n",
    "    loss = F.cross_entropy(outputs, query_labels)\n",
    "    loss.backward()\n",
    "    optimizer.step()\n",
    "\n",
    "    if (episode + 1) % 10 == 0:\n",
    "        print(f\"Episode {episode + 1}: Training Loss {loss.item():.4f}\")\n",
    "\n",
    "        with torch.no_grad():\n",
    "            correct = 0\n",
    "            total = 0\n",
    "            for _ in range(10):  # Evaluate over multiple validation episodes\n",
    "                test_images, test_labels = testset.data, torch.tensor(testset.targets)\n",
    "                support_set, query_set, query_labels = get_episode_data(test_images, test_labels, num_classes_per_episode, num_support, num_query)\n",
    "\n",
    "                outputs = model(support_set, query_set)\n",
    "                _, predicted = torch.max(outputs, dim=1)  # Get predictions\n",
    "\n",
    "                total += query_labels.size(0)\n",
    "                correct += (predicted == query_labels).sum().item()\n",
    "\n",
    "            print(f\"Validation Accuracy: {100 * correct / total:.2f}%\") "
   ]
  },
  {
   "cell_type": "code",
   "execution_count": null,
   "id": "a7b4a65116fb98cc",
   "metadata": {},
   "outputs": [],
   "source": []
  }
 ],
 "metadata": {
  "kernelspec": {
   "display_name": "Python 3",
   "language": "python",
   "name": "python3"
  },
  "language_info": {
   "codemirror_mode": {
    "name": "ipython",
    "version": 3
   },
   "file_extension": ".py",
   "mimetype": "text/x-python",
   "name": "python",
   "nbconvert_exporter": "python",
   "pygments_lexer": "ipython3",
   "version": "3.10.12"
  }
 },
 "nbformat": 4,
 "nbformat_minor": 5
}
